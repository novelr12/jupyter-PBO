{
 "cells": [
  {
   "cell_type": "markdown",
   "metadata": {},
   "source": [
    "# Type of Inheritance"
   ]
  },
  {
   "cell_type": "markdown",
   "metadata": {},
   "source": [
    "Pewarisan/Penurunan adalah konsep pemrograman dimana sebuah class dapat 'menurunkan' property dan method yang dimilikinya kepada class lain."
   ]
  },
  {
   "cell_type": "markdown",
   "metadata": {},
   "source": [
    "### Type of Inheritance"
   ]
  },
  {
   "cell_type": "markdown",
   "metadata": {},
   "source": [
    "<img src=\"1.png\">"
   ]
  },
  {
   "cell_type": "markdown",
   "metadata": {},
   "source": [
    "#### Contoh Default: property, property dan method"
   ]
  },
  {
   "cell_type": "code",
   "execution_count": null,
   "metadata": {},
   "outputs": [],
   "source": [
    "class Fish:\n",
    "    def __init__(self, first_name, last_name=\"Fish\", skeleton=\"bone\", eyelids=False):\n",
    "        self.first_name = first_name\n",
    "        self.last_name = last_name\n",
    "        self.skeleton = skeleton\n",
    "        self.eyelids = eyelids\n",
    "    def swim(self):\n",
    "        print(\"The fish is swimming.\")\n",
    "    def swim_backwards(self):\n",
    "        print(\"The fish can swim backwards.\")\n",
    "class Trout (Fish):\n",
    "    pass"
   ]
  },
  {
   "cell_type": "markdown",
   "metadata": {},
   "source": [
    "#### Contoh Overriding: property/method, property dan method"
   ]
  },
  {
   "cell_type": "markdown",
   "metadata": {},
   "source": [
    "Metode overriding di kelas anak harus memiliki nama, signature, dan parameter yang sama dengan yang ada di kelas induknya. Namun, overriding kelas anak dapat memodifikasi nilai property/method pada kelas induk."
   ]
  },
  {
   "cell_type": "code",
   "execution_count": null,
   "metadata": {},
   "outputs": [],
   "source": [
    "class Fish: \n",
    "    def __init__(self, first_name, last_name=\"Fish\", skeleton=\"bone\", eyelids=False): \n",
    "        self.first_name = first_name \n",
    "        self.last_name = last_name \n",
    "        self.skeleton = skeleton \n",
    "        self.eyelids = eyelids \n",
    "    def swim(self): \n",
    "        print(\"The fish is swimming.\") \n",
    "    def swim_backwards(self): \n",
    "        print(\"The fish can swim backwards.\") \n",
    "class Shark(Fish): \n",
    "    def __init__(self, first_name, last_name=\"Shark\", skeleton=\"cartilage\", eyelids=True): \n",
    "        self.first_name = first_name \n",
    "        self.last_name = last_name \n",
    "        self.skeleton = skeleton \n",
    "        self.eyelids = eyelids \n",
    "    def swim_backwards(self): \n",
    "        print(\"The shark cannot swim backwards, but can sink backwards.\") \n"
   ]
  },
  {
   "cell_type": "markdown",
   "metadata": {},
   "source": [
    "Dari contoh diatas kelas Shark yang merupakan subclass dari Fish,mengganti metode konstruktor __init __ () dan swim_backwards ()."
   ]
  },
  {
   "cell_type": "markdown",
   "metadata": {},
   "source": [
    "#### Contoh Super: property"
   ]
  },
  {
   "cell_type": "markdown",
   "metadata": {},
   "source": [
    "Fungsi super() paling umum digunakan dalam metode __init __ (),karena di situlah kemungkinan besar perlu menambahkan beberapa keunikan pada kelas anak dan kemudian menyelesaikan inisialisasi dari induknya."
   ]
  },
  {
   "cell_type": "code",
   "execution_count": 3,
   "metadata": {},
   "outputs": [
    {
     "name": "stdout",
     "output_type": "stream",
     "text": [
      "Terry\n",
      "Terry fish\n",
      "true\n",
      "freshwater\n",
      "The fish is swimming.\n"
     ]
    }
   ],
   "source": [
    "class Fish: \n",
    "    def __init__(self, first_name, last_name=\"Fish\", skeleton=\"bone\", eyelids=False): \n",
    "        self.first_name = first_name \n",
    "        self.last_name = last_name \n",
    "        self.skeleton = skeleton \n",
    "        self.eyelids = eyelids \n",
    "    def swim(self): \n",
    "        print(\"The fish is swimming.\") \n",
    "    def swim_backwards(self): \n",
    "        print(\"The fish can swim backwards.\")\n",
    "class Trout(Fish):\n",
    "     def __init__(self, water, first_name, last_name, skeleton, eyelids):\n",
    "        self.water = water\n",
    "        Fish.__init__(self, first_name, last_name, skeleton, eyelids)\n",
    "terry = Trout(\"freshwater\", \"shark\", \"fish\", \"no bone\", \"true\")\n",
    "terry.first_name = \"Terry\" \n",
    "print(terry.first_name)\n",
    "print(terry.first_name + \" \" + terry.last_name) \n",
    "print(terry.eyelids) \n",
    "print(terry.water) \n",
    "terry.swim() \n"
   ]
  },
  {
   "cell_type": "markdown",
   "metadata": {},
   "source": [
    "contoh tadi ada ganti metode __init __ () di kelas anak Trout, memberikan implementasi yang berbeda dari __init __ () yang sudah ditentukan oleh kelas induknya Fish."
   ]
  },
  {
   "cell_type": "markdown",
   "metadata": {},
   "source": [
    "#### Contoh Multiple:"
   ]
  },
  {
   "cell_type": "markdown",
   "metadata": {},
   "source": [
    "Multiple inheritance adalah ketika sebuah kelas dapat mewarisi atribut dan metode dari lebih dari satu kelas induk."
   ]
  },
  {
   "cell_type": "code",
   "execution_count": 2,
   "metadata": {},
   "outputs": [
    {
     "name": "stdout",
     "output_type": "stream",
     "text": [
      "Coral lives in a community.\n",
      "The anemone is protecting the clownfish.\n"
     ]
    }
   ],
   "source": [
    "class Coral: \n",
    "\tdef community(self): \n",
    "\t\tprint(\"Coral lives in a community.\") \n",
    "\n",
    "class Anemone: \n",
    "\tdef protect_clownfish(self): \n",
    "\t\tprint(\"The anemone is protecting the clownfish.\") \n",
    "\n",
    "class CoralReef(Coral, Anemone): \n",
    "\tpass \n",
    "great_barrier = CoralReef() \n",
    "great_barrier.community() \n",
    "great_barrier.protect_clownfish() \n"
   ]
  },
  {
   "cell_type": "code",
   "execution_count": 1,
   "metadata": {},
   "outputs": [
    {
     "name": "stdout",
     "output_type": "stream",
     "text": [
      "Nama: Joko\n",
      "Nilai Pelajaran\n",
      "Math: 90\n",
      "Biology: 90\n",
      "Nama:  Joko\n",
      "Rata2 Nilai:  90.0\n"
     ]
    }
   ],
   "source": [
    "class Murid:\n",
    "    \n",
    "    def __init__(self):\n",
    "        self.nama = input(\"Nama: \")\n",
    "        \n",
    "    def display(self):\n",
    "        print(\"Nama: \",self.nama)\n",
    "   \n",
    "class NilaiPelajaran:\n",
    " \n",
    "    def __init__(self):\n",
    "        print(\"Nilai Pelajaran\")\n",
    "        self.math = int(input(\"Math: \"))\n",
    "        self.biology = int(input(\"Biology: \"))\n",
    "   \n",
    "    def display(self):\n",
    "        print(\"Rata2 Nilai: \", (self.math + self.biology)/2 )\n",
    "        \n",
    "\n",
    "\n",
    "class student(Murid, NilaiPelajaran):\n",
    "    def __init__(self):\n",
    "        Murid.__init__(self)\n",
    "        NilaiPelajaran.__init__(self)\n",
    "        \n",
    "    def result(self):\n",
    "        Murid.display(self)\n",
    "        NilaiPelajaran.display(self)\n",
    "        \n",
    "\n",
    "stu1 = student()\n",
    "stu1.result()\n"
   ]
  }
 ],
 "metadata": {
  "kernelspec": {
   "display_name": "Python 3",
   "language": "python",
   "name": "python3"
  },
  "language_info": {
   "codemirror_mode": {
    "name": "ipython",
    "version": 3
   },
   "file_extension": ".py",
   "mimetype": "text/x-python",
   "name": "python",
   "nbconvert_exporter": "python",
   "pygments_lexer": "ipython3",
   "version": "3.7.1"
  }
 },
 "nbformat": 4,
 "nbformat_minor": 2
}
